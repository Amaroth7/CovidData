{
 "cells": [
  {
   "cell_type": "code",
   "execution_count": 100,
   "metadata": {},
   "outputs": [],
   "source": [
    "import pandas as pd\n",
    "from scipy import stats\n",
    "df = pd.read_csv('owid-covid-data.csv') # import our data file\n",
    "df['date'] = pd.to_datetime(df['date']) # makes us able make calculations with dates"
   ]
  },
  {
   "cell_type": "code",
   "execution_count": null,
   "metadata": {},
   "outputs": [],
   "source": [
    "A1"
   ]
  },
  {
   "cell_type": "code",
   "execution_count": 101,
   "metadata": {},
   "outputs": [
    {
     "data": {
      "text/html": [
       "<div>\n",
       "<style scoped>\n",
       "    .dataframe tbody tr th:only-of-type {\n",
       "        vertical-align: middle;\n",
       "    }\n",
       "\n",
       "    .dataframe tbody tr th {\n",
       "        vertical-align: top;\n",
       "    }\n",
       "\n",
       "    .dataframe thead th {\n",
       "        text-align: right;\n",
       "    }\n",
       "</style>\n",
       "<table border=\"1\" class=\"dataframe\">\n",
       "  <thead>\n",
       "    <tr style=\"text-align: right;\">\n",
       "      <th></th>\n",
       "      <th>iso_code</th>\n",
       "      <th>continent</th>\n",
       "      <th>location</th>\n",
       "      <th>date</th>\n",
       "      <th>total_cases</th>\n",
       "      <th>new_cases</th>\n",
       "      <th>new_cases_smoothed</th>\n",
       "      <th>total_deaths</th>\n",
       "      <th>new_deaths</th>\n",
       "      <th>new_deaths_smoothed</th>\n",
       "      <th>...</th>\n",
       "      <th>gdp_per_capita</th>\n",
       "      <th>extreme_poverty</th>\n",
       "      <th>cardiovasc_death_rate</th>\n",
       "      <th>diabetes_prevalence</th>\n",
       "      <th>female_smokers</th>\n",
       "      <th>male_smokers</th>\n",
       "      <th>handwashing_facilities</th>\n",
       "      <th>hospital_beds_per_thousand</th>\n",
       "      <th>life_expectancy</th>\n",
       "      <th>human_development_index</th>\n",
       "    </tr>\n",
       "  </thead>\n",
       "  <tbody>\n",
       "    <tr>\n",
       "      <th>11377</th>\n",
       "      <td>CHN</td>\n",
       "      <td>Asia</td>\n",
       "      <td>China</td>\n",
       "      <td>2020-03-23</td>\n",
       "      <td>81484.0</td>\n",
       "      <td>138.0</td>\n",
       "      <td>66.29</td>\n",
       "      <td>3274.0</td>\n",
       "      <td>9.0</td>\n",
       "      <td>8.29</td>\n",
       "      <td>...</td>\n",
       "      <td>15308.71</td>\n",
       "      <td>0.7</td>\n",
       "      <td>261.9</td>\n",
       "      <td>9.74</td>\n",
       "      <td>1.9</td>\n",
       "      <td>48.4</td>\n",
       "      <td>NaN</td>\n",
       "      <td>4.34</td>\n",
       "      <td>76.91</td>\n",
       "      <td>0.75</td>\n",
       "    </tr>\n",
       "  </tbody>\n",
       "</table>\n",
       "<p>1 rows × 50 columns</p>\n",
       "</div>"
      ],
      "text/plain": [
       "      iso_code continent location       date  total_cases  new_cases  \\\n",
       "11377      CHN      Asia    China 2020-03-23      81484.0      138.0   \n",
       "\n",
       "       new_cases_smoothed  total_deaths  new_deaths  new_deaths_smoothed  ...  \\\n",
       "11377               66.29        3274.0         9.0                 8.29  ...   \n",
       "\n",
       "       gdp_per_capita  extreme_poverty  cardiovasc_death_rate  \\\n",
       "11377        15308.71              0.7                  261.9   \n",
       "\n",
       "       diabetes_prevalence  female_smokers  male_smokers  \\\n",
       "11377                 9.74             1.9          48.4   \n",
       "\n",
       "       handwashing_facilities  hospital_beds_per_thousand  life_expectancy  \\\n",
       "11377                     NaN                        4.34            76.91   \n",
       "\n",
       "       human_development_index  \n",
       "11377                     0.75  \n",
       "\n",
       "[1 rows x 50 columns]"
      ]
     },
     "execution_count": 101,
     "metadata": {},
     "output_type": "execute_result"
    }
   ],
   "source": [
    "df_q1 = df[(df['date'] == '2020-03-23') & (~(df['location'] == 'World'))] # removes rows with \"World\" value on location column and keeps only rows with '2020-03-23' value on date column\n",
    "max_total_cases = df_q1['total_cases'].max() # make a dataframe where we pick the max value of column total_cases\n",
    "df_q1[df_q1['total_cases'] == max_total_cases].round(decimals=2) # we combine the 2 dataframes to get the desired value with all columns and round the result to have 2 decimals"
   ]
  },
  {
   "cell_type": "code",
   "execution_count": null,
   "metadata": {},
   "outputs": [],
   "source": [
    "A2"
   ]
  },
  {
   "cell_type": "code",
   "execution_count": 34,
   "metadata": {},
   "outputs": [
    {
     "data": {
      "text/html": [
       "<div>\n",
       "<style scoped>\n",
       "    .dataframe tbody tr th:only-of-type {\n",
       "        vertical-align: middle;\n",
       "    }\n",
       "\n",
       "    .dataframe tbody tr th {\n",
       "        vertical-align: top;\n",
       "    }\n",
       "\n",
       "    .dataframe thead th {\n",
       "        text-align: right;\n",
       "    }\n",
       "</style>\n",
       "<table border=\"1\" class=\"dataframe\">\n",
       "  <thead>\n",
       "    <tr style=\"text-align: right;\">\n",
       "      <th></th>\n",
       "      <th>iso_code</th>\n",
       "      <th>continent</th>\n",
       "      <th>location</th>\n",
       "      <th>date</th>\n",
       "      <th>total_cases</th>\n",
       "      <th>new_cases</th>\n",
       "      <th>new_cases_smoothed</th>\n",
       "      <th>total_deaths</th>\n",
       "      <th>new_deaths</th>\n",
       "      <th>new_deaths_smoothed</th>\n",
       "      <th>...</th>\n",
       "      <th>gdp_per_capita</th>\n",
       "      <th>extreme_poverty</th>\n",
       "      <th>cardiovasc_death_rate</th>\n",
       "      <th>diabetes_prevalence</th>\n",
       "      <th>female_smokers</th>\n",
       "      <th>male_smokers</th>\n",
       "      <th>handwashing_facilities</th>\n",
       "      <th>hospital_beds_per_thousand</th>\n",
       "      <th>life_expectancy</th>\n",
       "      <th>human_development_index</th>\n",
       "    </tr>\n",
       "  </thead>\n",
       "  <tbody>\n",
       "    <tr>\n",
       "      <th>55418</th>\n",
       "      <td>USA</td>\n",
       "      <td>North America</td>\n",
       "      <td>United States</td>\n",
       "      <td>2020-03-29</td>\n",
       "      <td>124665.0</td>\n",
       "      <td>19979.0</td>\n",
       "      <td>13988.29</td>\n",
       "      <td>2191.0</td>\n",
       "      <td>484.0</td>\n",
       "      <td>264.43</td>\n",
       "      <td>...</td>\n",
       "      <td>54225.45</td>\n",
       "      <td>1.2</td>\n",
       "      <td>151.09</td>\n",
       "      <td>10.79</td>\n",
       "      <td>19.1</td>\n",
       "      <td>24.6</td>\n",
       "      <td>NaN</td>\n",
       "      <td>2.77</td>\n",
       "      <td>78.86</td>\n",
       "      <td>0.92</td>\n",
       "    </tr>\n",
       "  </tbody>\n",
       "</table>\n",
       "<p>1 rows × 50 columns</p>\n",
       "</div>"
      ],
      "text/plain": [
       "      iso_code      continent       location       date  total_cases  \\\n",
       "55418      USA  North America  United States 2020-03-29     124665.0   \n",
       "\n",
       "       new_cases  new_cases_smoothed  total_deaths  new_deaths  \\\n",
       "55418    19979.0            13988.29        2191.0       484.0   \n",
       "\n",
       "       new_deaths_smoothed  ...  gdp_per_capita  extreme_poverty  \\\n",
       "55418               264.43  ...        54225.45              1.2   \n",
       "\n",
       "       cardiovasc_death_rate  diabetes_prevalence  female_smokers  \\\n",
       "55418                 151.09                10.79            19.1   \n",
       "\n",
       "       male_smokers  handwashing_facilities  hospital_beds_per_thousand  \\\n",
       "55418          24.6                     NaN                        2.77   \n",
       "\n",
       "       life_expectancy  human_development_index  \n",
       "55418            78.86                     0.92  \n",
       "\n",
       "[1 rows x 50 columns]"
      ]
     },
     "execution_count": 34,
     "metadata": {},
     "output_type": "execute_result"
    }
   ],
   "source": [
    "df_q2 = df[(df['date'] >= '2020-03-23') & (df['date'] <= '2020-03-29') & (~(df['location'] == 'World'))] # removes rows with \"World\" value on location column and keeps only rows with specofied values on date column\n",
    "max_new_cases = df_q2['new_cases'].max() # make a dataframe where we pick the max value of column new_cases\n",
    "df_q2[df_q2['new_cases'] == max_new_cases].round(decimals=2) # we combine the 2 dataframes to get the desired value with all columns and round the result to have 2 decimals"
   ]
  },
  {
   "cell_type": "code",
   "execution_count": null,
   "metadata": {},
   "outputs": [],
   "source": [
    "A3"
   ]
  },
  {
   "cell_type": "code",
   "execution_count": 23,
   "metadata": {},
   "outputs": [
    {
     "name": "stdout",
     "output_type": "stream",
     "text": [
      "302.0\n"
     ]
    }
   ],
   "source": [
    "df_q3 = df[(df['date'] >= '2020-03-16') & (df['date'] <= '2020-03-22') & (df['location'] == 'Greece')] # removes rows that aren't \"Greece\" value on location column and keeps only rows with specofied values on date column\n",
    "new_cases_before = df_q3 ['new_cases'].sum() # make a dataframe where we pick the sum value of column \"new_cases\"\n",
    "print(new_cases_before) # we print the specified value"
   ]
  },
  {
   "cell_type": "code",
   "execution_count": 24,
   "metadata": {},
   "outputs": [
    {
     "name": "stdout",
     "output_type": "stream",
     "text": [
      "14297.0\n"
     ]
    }
   ],
   "source": [
    "df_q31 = df[(df['date'] >= '2020-10-31') & (df['date'] <= '2020-11-06') & (df['location'] == 'Greece')] # removes rows that aren't \"Greece\" value on location column and keeps only rows with specofied values on date column\n",
    "new_cases_after = df_q31 ['new_cases'].sum() # make a dataframe where we pick the sum value of column new_cases\n",
    "print(new_cases_after) # we print the specified value"
   ]
  },
  {
   "cell_type": "code",
   "execution_count": null,
   "metadata": {},
   "outputs": [],
   "source": [
    "A4"
   ]
  },
  {
   "cell_type": "code",
   "execution_count": 33,
   "metadata": {},
   "outputs": [
    {
     "data": {
      "text/html": [
       "<div>\n",
       "<style scoped>\n",
       "    .dataframe tbody tr th:only-of-type {\n",
       "        vertical-align: middle;\n",
       "    }\n",
       "\n",
       "    .dataframe tbody tr th {\n",
       "        vertical-align: top;\n",
       "    }\n",
       "\n",
       "    .dataframe thead th {\n",
       "        text-align: right;\n",
       "    }\n",
       "</style>\n",
       "<table border=\"1\" class=\"dataframe\">\n",
       "  <thead>\n",
       "    <tr style=\"text-align: right;\">\n",
       "      <th></th>\n",
       "      <th>iso_code</th>\n",
       "      <th>continent</th>\n",
       "      <th>location</th>\n",
       "      <th>date</th>\n",
       "      <th>total_cases</th>\n",
       "      <th>new_cases</th>\n",
       "      <th>new_cases_smoothed</th>\n",
       "      <th>total_deaths</th>\n",
       "      <th>new_deaths</th>\n",
       "      <th>new_deaths_smoothed</th>\n",
       "      <th>...</th>\n",
       "      <th>gdp_per_capita</th>\n",
       "      <th>extreme_poverty</th>\n",
       "      <th>cardiovasc_death_rate</th>\n",
       "      <th>diabetes_prevalence</th>\n",
       "      <th>female_smokers</th>\n",
       "      <th>male_smokers</th>\n",
       "      <th>handwashing_facilities</th>\n",
       "      <th>hospital_beds_per_thousand</th>\n",
       "      <th>life_expectancy</th>\n",
       "      <th>human_development_index</th>\n",
       "    </tr>\n",
       "  </thead>\n",
       "  <tbody>\n",
       "    <tr>\n",
       "      <th>5519</th>\n",
       "      <td>BEL</td>\n",
       "      <td>Europe</td>\n",
       "      <td>Belgium</td>\n",
       "      <td>2020-11-22</td>\n",
       "      <td>559515.0</td>\n",
       "      <td>1062.0</td>\n",
       "      <td>3120.86</td>\n",
       "      <td>15647.0</td>\n",
       "      <td>108.0</td>\n",
       "      <td>155.86</td>\n",
       "      <td>...</td>\n",
       "      <td>42658.58</td>\n",
       "      <td>0.2</td>\n",
       "      <td>114.9</td>\n",
       "      <td>4.29</td>\n",
       "      <td>25.1</td>\n",
       "      <td>31.4</td>\n",
       "      <td>NaN</td>\n",
       "      <td>5.64</td>\n",
       "      <td>81.63</td>\n",
       "      <td>0.92</td>\n",
       "    </tr>\n",
       "  </tbody>\n",
       "</table>\n",
       "<p>1 rows × 50 columns</p>\n",
       "</div>"
      ],
      "text/plain": [
       "     iso_code continent location       date  total_cases  new_cases  \\\n",
       "5519      BEL    Europe  Belgium 2020-11-22     559515.0     1062.0   \n",
       "\n",
       "      new_cases_smoothed  total_deaths  new_deaths  new_deaths_smoothed  ...  \\\n",
       "5519             3120.86       15647.0       108.0               155.86  ...   \n",
       "\n",
       "      gdp_per_capita  extreme_poverty  cardiovasc_death_rate  \\\n",
       "5519        42658.58              0.2                  114.9   \n",
       "\n",
       "      diabetes_prevalence  female_smokers  male_smokers  \\\n",
       "5519                 4.29            25.1          31.4   \n",
       "\n",
       "      handwashing_facilities  hospital_beds_per_thousand  life_expectancy  \\\n",
       "5519                     NaN                        5.64            81.63   \n",
       "\n",
       "      human_development_index  \n",
       "5519                     0.92  \n",
       "\n",
       "[1 rows x 50 columns]"
      ]
     },
     "execution_count": 33,
     "metadata": {},
     "output_type": "execute_result"
    }
   ],
   "source": [
    "df_q4 = df[~(df['location'] == 'World')] # removes rows with \"World\" value on location column\n",
    "max_tdpm = df_q4['total_deaths_per_million'].max() # make a dataframe where we pick the max value of column total_deaths_per_million\n",
    "df_q4[df_q4['total_deaths_per_million'] == max_tdpm].round(decimals=2) # we combine the 2 dataframes to get the desired value with all columns and round the result to have 2 decimals"
   ]
  },
  {
   "cell_type": "code",
   "execution_count": null,
   "metadata": {},
   "outputs": [],
   "source": [
    "A5"
   ]
  },
  {
   "cell_type": "code",
   "execution_count": 32,
   "metadata": {},
   "outputs": [
    {
     "data": {
      "text/html": [
       "<div>\n",
       "<style scoped>\n",
       "    .dataframe tbody tr th:only-of-type {\n",
       "        vertical-align: middle;\n",
       "    }\n",
       "\n",
       "    .dataframe tbody tr th {\n",
       "        vertical-align: top;\n",
       "    }\n",
       "\n",
       "    .dataframe thead th {\n",
       "        text-align: right;\n",
       "    }\n",
       "</style>\n",
       "<table border=\"1\" class=\"dataframe\">\n",
       "  <thead>\n",
       "    <tr style=\"text-align: right;\">\n",
       "      <th></th>\n",
       "      <th>iso_code</th>\n",
       "      <th>continent</th>\n",
       "      <th>location</th>\n",
       "      <th>date</th>\n",
       "      <th>deaths_per_case</th>\n",
       "      <th>total_cases</th>\n",
       "      <th>new_cases</th>\n",
       "      <th>new_cases_smoothed</th>\n",
       "      <th>total_deaths</th>\n",
       "      <th>new_deaths</th>\n",
       "      <th>...</th>\n",
       "      <th>gdp_per_capita</th>\n",
       "      <th>extreme_poverty</th>\n",
       "      <th>cardiovasc_death_rate</th>\n",
       "      <th>diabetes_prevalence</th>\n",
       "      <th>female_smokers</th>\n",
       "      <th>male_smokers</th>\n",
       "      <th>handwashing_facilities</th>\n",
       "      <th>hospital_beds_per_thousand</th>\n",
       "      <th>life_expectancy</th>\n",
       "      <th>human_development_index</th>\n",
       "    </tr>\n",
       "  </thead>\n",
       "  <tbody>\n",
       "    <tr>\n",
       "      <th>57751</th>\n",
       "      <td>YEM</td>\n",
       "      <td>Asia</td>\n",
       "      <td>Yemen</td>\n",
       "      <td>2020-11-24</td>\n",
       "      <td>0.29</td>\n",
       "      <td>2107.0</td>\n",
       "      <td>8.0</td>\n",
       "      <td>5.0</td>\n",
       "      <td>609.0</td>\n",
       "      <td>1.0</td>\n",
       "      <td>...</td>\n",
       "      <td>1479.15</td>\n",
       "      <td>18.8</td>\n",
       "      <td>495.0</td>\n",
       "      <td>5.35</td>\n",
       "      <td>7.6</td>\n",
       "      <td>29.2</td>\n",
       "      <td>49.54</td>\n",
       "      <td>0.7</td>\n",
       "      <td>66.12</td>\n",
       "      <td>0.45</td>\n",
       "    </tr>\n",
       "  </tbody>\n",
       "</table>\n",
       "<p>1 rows × 51 columns</p>\n",
       "</div>"
      ],
      "text/plain": [
       "      iso_code continent location       date  deaths_per_case  total_cases  \\\n",
       "57751      YEM      Asia    Yemen 2020-11-24             0.29       2107.0   \n",
       "\n",
       "       new_cases  new_cases_smoothed  total_deaths  new_deaths  ...  \\\n",
       "57751        8.0                 5.0         609.0         1.0  ...   \n",
       "\n",
       "       gdp_per_capita  extreme_poverty  cardiovasc_death_rate  \\\n",
       "57751         1479.15             18.8                  495.0   \n",
       "\n",
       "       diabetes_prevalence  female_smokers  male_smokers  \\\n",
       "57751                 5.35             7.6          29.2   \n",
       "\n",
       "       handwashing_facilities  hospital_beds_per_thousand  life_expectancy  \\\n",
       "57751                   49.54                         0.7            66.12   \n",
       "\n",
       "       human_development_index  \n",
       "57751                     0.45  \n",
       "\n",
       "[1 rows x 51 columns]"
      ]
     },
     "execution_count": 32,
     "metadata": {},
     "output_type": "execute_result"
    }
   ],
   "source": [
    "df_q5 = df[(df['date'] == '2020-11-24')& (~(df['location'] == 'World'))] # removes rows with \"World\" value on location column and keeps only rows with '2020-03-23' value on date column\n",
    "df_q5.insert(4, column = \"deaths_per_case\", value = df ['total_deaths']/df['total_cases']) # we create a new column and insert it 4th on the dataframe with name \"deaths_per_case\" and calculate it by deviding total_deaths by total_cases\n",
    "max_deaths_per_case = df_q5 ['deaths_per_case'].max() # make a dataframe where we pick the max value of column the newly created deaths_per_case\n",
    "df_q5[df_q5['deaths_per_case'] == max_deaths_per_case].round(decimals=2) # we combine the 2 dataframes to get the desired value with all columns and round the result to have 2 decimals"
   ]
  },
  {
   "cell_type": "code",
   "execution_count": null,
   "metadata": {},
   "outputs": [],
   "source": [
    "B1"
   ]
  },
  {
   "cell_type": "code",
   "execution_count": 31,
   "metadata": {},
   "outputs": [
    {
     "data": {
      "text/html": [
       "<div>\n",
       "<style scoped>\n",
       "    .dataframe tbody tr th:only-of-type {\n",
       "        vertical-align: middle;\n",
       "    }\n",
       "\n",
       "    .dataframe tbody tr th {\n",
       "        vertical-align: top;\n",
       "    }\n",
       "\n",
       "    .dataframe thead th {\n",
       "        text-align: right;\n",
       "    }\n",
       "</style>\n",
       "<table border=\"1\" class=\"dataframe\">\n",
       "  <thead>\n",
       "    <tr style=\"text-align: right;\">\n",
       "      <th></th>\n",
       "      <th></th>\n",
       "      <th>new_deaths</th>\n",
       "      <th>new_cases</th>\n",
       "    </tr>\n",
       "    <tr>\n",
       "      <th>date</th>\n",
       "      <th>date</th>\n",
       "      <th></th>\n",
       "      <th></th>\n",
       "    </tr>\n",
       "  </thead>\n",
       "  <tbody>\n",
       "    <tr>\n",
       "      <th rowspan=\"11\" valign=\"top\">2020</th>\n",
       "      <th>1</th>\n",
       "      <td>0.00</td>\n",
       "      <td>0.00</td>\n",
       "    </tr>\n",
       "    <tr>\n",
       "      <th>2</th>\n",
       "      <td>0.00</td>\n",
       "      <td>0.44</td>\n",
       "    </tr>\n",
       "    <tr>\n",
       "      <th>3</th>\n",
       "      <td>1.84</td>\n",
       "      <td>31.87</td>\n",
       "    </tr>\n",
       "    <tr>\n",
       "      <th>4</th>\n",
       "      <td>2.43</td>\n",
       "      <td>39.83</td>\n",
       "    </tr>\n",
       "    <tr>\n",
       "      <th>5</th>\n",
       "      <td>1.04</td>\n",
       "      <td>8.72</td>\n",
       "    </tr>\n",
       "    <tr>\n",
       "      <th>6</th>\n",
       "      <td>0.90</td>\n",
       "      <td>12.07</td>\n",
       "    </tr>\n",
       "    <tr>\n",
       "      <th>7</th>\n",
       "      <td>0.72</td>\n",
       "      <td>14.38</td>\n",
       "    </tr>\n",
       "    <tr>\n",
       "      <th>8</th>\n",
       "      <td>1.62</td>\n",
       "      <td>62.54</td>\n",
       "    </tr>\n",
       "    <tr>\n",
       "      <th>9</th>\n",
       "      <td>2.19</td>\n",
       "      <td>82.85</td>\n",
       "    </tr>\n",
       "    <tr>\n",
       "      <th>10</th>\n",
       "      <td>3.50</td>\n",
       "      <td>378.47</td>\n",
       "    </tr>\n",
       "    <tr>\n",
       "      <th>11</th>\n",
       "      <td>28.64</td>\n",
       "      <td>621.04</td>\n",
       "    </tr>\n",
       "  </tbody>\n",
       "</table>\n",
       "</div>"
      ],
      "text/plain": [
       "           new_deaths  new_cases\n",
       "date date                       \n",
       "2020 1           0.00       0.00\n",
       "     2           0.00       0.44\n",
       "     3           1.84      31.87\n",
       "     4           2.43      39.83\n",
       "     5           1.04       8.72\n",
       "     6           0.90      12.07\n",
       "     7           0.72      14.38\n",
       "     8           1.62      62.54\n",
       "     9           2.19      82.85\n",
       "     10          3.50     378.47\n",
       "     11         28.64     621.04"
      ]
     },
     "execution_count": 31,
     "metadata": {},
     "output_type": "execute_result"
    }
   ],
   "source": [
    "df_q6 = df[(df['date'] >= '2020-01') & (df['date'] <= '2020-12') & (df['location'] == 'Greece')]  # removes rows that aren't \"Greece\" value on location column and keeps only rows with specofied values on date column\n",
    "q6std = df_q6 [['date', 'new_deaths', 'new_cases']] # make a dataframe including only the date, new_deaths and new_cases columns\n",
    "q6std.groupby([df_q6[\"date\"].dt.year, df_q6[\"date\"].dt.month]).std().round(decimals=2) # we combine the 2 dataframes getting the standard deviation of the two columns new_deaths and new_cases monthly and rounding the result to have to decimals"
   ]
  },
  {
   "cell_type": "code",
   "execution_count": 30,
   "metadata": {},
   "outputs": [
    {
     "data": {
      "text/html": [
       "<div>\n",
       "<style scoped>\n",
       "    .dataframe tbody tr th:only-of-type {\n",
       "        vertical-align: middle;\n",
       "    }\n",
       "\n",
       "    .dataframe tbody tr th {\n",
       "        vertical-align: top;\n",
       "    }\n",
       "\n",
       "    .dataframe thead th {\n",
       "        text-align: right;\n",
       "    }\n",
       "</style>\n",
       "<table border=\"1\" class=\"dataframe\">\n",
       "  <thead>\n",
       "    <tr style=\"text-align: right;\">\n",
       "      <th></th>\n",
       "      <th></th>\n",
       "      <th>new_deaths</th>\n",
       "      <th>new_cases</th>\n",
       "    </tr>\n",
       "    <tr>\n",
       "      <th>date</th>\n",
       "      <th>date</th>\n",
       "      <th></th>\n",
       "      <th></th>\n",
       "    </tr>\n",
       "  </thead>\n",
       "  <tbody>\n",
       "    <tr>\n",
       "      <th rowspan=\"11\" valign=\"top\">2020</th>\n",
       "      <th>1</th>\n",
       "      <td>0.00</td>\n",
       "      <td>0.00</td>\n",
       "    </tr>\n",
       "    <tr>\n",
       "      <th>2</th>\n",
       "      <td>0.00</td>\n",
       "      <td>0.14</td>\n",
       "    </tr>\n",
       "    <tr>\n",
       "      <th>3</th>\n",
       "      <td>1.48</td>\n",
       "      <td>41.66</td>\n",
       "    </tr>\n",
       "    <tr>\n",
       "      <th>4</th>\n",
       "      <td>3.20</td>\n",
       "      <td>45.47</td>\n",
       "    </tr>\n",
       "    <tr>\n",
       "      <th>5</th>\n",
       "      <td>1.16</td>\n",
       "      <td>10.94</td>\n",
       "    </tr>\n",
       "    <tr>\n",
       "      <th>6</th>\n",
       "      <td>0.53</td>\n",
       "      <td>15.83</td>\n",
       "    </tr>\n",
       "    <tr>\n",
       "      <th>7</th>\n",
       "      <td>0.39</td>\n",
       "      <td>32.61</td>\n",
       "    </tr>\n",
       "    <tr>\n",
       "      <th>8</th>\n",
       "      <td>1.90</td>\n",
       "      <td>184.94</td>\n",
       "    </tr>\n",
       "    <tr>\n",
       "      <th>9</th>\n",
       "      <td>4.20</td>\n",
       "      <td>266.30</td>\n",
       "    </tr>\n",
       "    <tr>\n",
       "      <th>10</th>\n",
       "      <td>7.48</td>\n",
       "      <td>615.26</td>\n",
       "    </tr>\n",
       "    <tr>\n",
       "      <th>11</th>\n",
       "      <td>45.58</td>\n",
       "      <td>2325.42</td>\n",
       "    </tr>\n",
       "  </tbody>\n",
       "</table>\n",
       "</div>"
      ],
      "text/plain": [
       "           new_deaths  new_cases\n",
       "date date                       \n",
       "2020 1           0.00       0.00\n",
       "     2           0.00       0.14\n",
       "     3           1.48      41.66\n",
       "     4           3.20      45.47\n",
       "     5           1.16      10.94\n",
       "     6           0.53      15.83\n",
       "     7           0.39      32.61\n",
       "     8           1.90     184.94\n",
       "     9           4.20     266.30\n",
       "     10          7.48     615.26\n",
       "     11         45.58    2325.42"
      ]
     },
     "execution_count": 30,
     "metadata": {},
     "output_type": "execute_result"
    }
   ],
   "source": [
    "df_q7 = df[(df['date'] >= '2020-01') & (df['date'] <= '2020-12') & (df['location'] == 'Greece')] # removes rows that aren't \"Greece\" value on location column and keeps only rows with specofied values on date column\n",
    "q7mean = df_q7 [['date', 'new_deaths', 'new_cases']] # make a dataframe including only the date, new_deaths and new_cases columns\n",
    "q7mean.groupby([df_q7[\"date\"].dt.year, df_q7[\"date\"].dt.month]).mean().round(decimals=2) # we combine the 2 dataframes getting the mean of the two columns new_deaths and new_cases monthly and rounding the result to have to decimals"
   ]
  },
  {
   "cell_type": "code",
   "execution_count": null,
   "metadata": {},
   "outputs": [],
   "source": [
    "B2"
   ]
  },
  {
   "cell_type": "code",
   "execution_count": 29,
   "metadata": {},
   "outputs": [
    {
     "data": {
      "text/html": [
       "<div>\n",
       "<style scoped>\n",
       "    .dataframe tbody tr th:only-of-type {\n",
       "        vertical-align: middle;\n",
       "    }\n",
       "\n",
       "    .dataframe tbody tr th {\n",
       "        vertical-align: top;\n",
       "    }\n",
       "\n",
       "    .dataframe thead th {\n",
       "        text-align: right;\n",
       "    }\n",
       "</style>\n",
       "<table border=\"1\" class=\"dataframe\">\n",
       "  <thead>\n",
       "    <tr style=\"text-align: right;\">\n",
       "      <th></th>\n",
       "      <th></th>\n",
       "      <th>new_deaths</th>\n",
       "      <th>new_cases</th>\n",
       "    </tr>\n",
       "    <tr>\n",
       "      <th>date</th>\n",
       "      <th>date</th>\n",
       "      <th></th>\n",
       "      <th></th>\n",
       "    </tr>\n",
       "  </thead>\n",
       "  <tbody>\n",
       "    <tr>\n",
       "      <th rowspan=\"10\" valign=\"top\">2020</th>\n",
       "      <th>2</th>\n",
       "      <td>NaN</td>\n",
       "      <td>NaN</td>\n",
       "    </tr>\n",
       "    <tr>\n",
       "      <th>3</th>\n",
       "      <td>7.51</td>\n",
       "      <td>271.80</td>\n",
       "    </tr>\n",
       "    <tr>\n",
       "      <th>4</th>\n",
       "      <td>8.33</td>\n",
       "      <td>280.45</td>\n",
       "    </tr>\n",
       "    <tr>\n",
       "      <th>5</th>\n",
       "      <td>6.58</td>\n",
       "      <td>137.89</td>\n",
       "    </tr>\n",
       "    <tr>\n",
       "      <th>6</th>\n",
       "      <td>3.78</td>\n",
       "      <td>75.00</td>\n",
       "    </tr>\n",
       "    <tr>\n",
       "      <th>7</th>\n",
       "      <td>3.07</td>\n",
       "      <td>98.83</td>\n",
       "    </tr>\n",
       "    <tr>\n",
       "      <th>8</th>\n",
       "      <td>1.83</td>\n",
       "      <td>88.33</td>\n",
       "    </tr>\n",
       "    <tr>\n",
       "      <th>9</th>\n",
       "      <td>2.62</td>\n",
       "      <td>191.78</td>\n",
       "    </tr>\n",
       "    <tr>\n",
       "      <th>10</th>\n",
       "      <td>9.02</td>\n",
       "      <td>1151.11</td>\n",
       "    </tr>\n",
       "    <tr>\n",
       "      <th>11</th>\n",
       "      <td>14.81</td>\n",
       "      <td>1555.36</td>\n",
       "    </tr>\n",
       "  </tbody>\n",
       "</table>\n",
       "</div>"
      ],
      "text/plain": [
       "           new_deaths  new_cases\n",
       "date date                       \n",
       "2020 2            NaN        NaN\n",
       "     3           7.51     271.80\n",
       "     4           8.33     280.45\n",
       "     5           6.58     137.89\n",
       "     6           3.78      75.00\n",
       "     7           3.07      98.83\n",
       "     8           1.83      88.33\n",
       "     9           2.62     191.78\n",
       "     10          9.02    1151.11\n",
       "     11         14.81    1555.36"
      ]
     },
     "execution_count": 29,
     "metadata": {},
     "output_type": "execute_result"
    }
   ],
   "source": [
    "df_q8 = df[(df['date'] >= '2020-01') & (df['date'] <= '2020-12') & (df['location'] == 'Portugal')] # removes rows that aren't \"Portugal\" value on location column and keeps only rows with specofied values on date column\n",
    "q8std = df_q8 [['date', 'new_deaths', 'new_cases']] # make a dataframe including only the date, new_deaths and new_cases columns\n",
    "q8std.groupby([df_q8[\"date\"].dt.year, df_q8[\"date\"].dt.month]).std().round(decimals=2) # we combine the 2 dataframes getting the standard deviation of the two columns new_deaths and new_cases monthly and rounding the result to have to decimals"
   ]
  },
  {
   "cell_type": "code",
   "execution_count": 28,
   "metadata": {},
   "outputs": [
    {
     "data": {
      "text/html": [
       "<div>\n",
       "<style scoped>\n",
       "    .dataframe tbody tr th:only-of-type {\n",
       "        vertical-align: middle;\n",
       "    }\n",
       "\n",
       "    .dataframe tbody tr th {\n",
       "        vertical-align: top;\n",
       "    }\n",
       "\n",
       "    .dataframe thead th {\n",
       "        text-align: right;\n",
       "    }\n",
       "</style>\n",
       "<table border=\"1\" class=\"dataframe\">\n",
       "  <thead>\n",
       "    <tr style=\"text-align: right;\">\n",
       "      <th></th>\n",
       "      <th></th>\n",
       "      <th>new_deaths</th>\n",
       "      <th>new_cases</th>\n",
       "    </tr>\n",
       "    <tr>\n",
       "      <th>date</th>\n",
       "      <th>date</th>\n",
       "      <th></th>\n",
       "      <th></th>\n",
       "    </tr>\n",
       "  </thead>\n",
       "  <tbody>\n",
       "    <tr>\n",
       "      <th rowspan=\"10\" valign=\"top\">2020</th>\n",
       "      <th>2</th>\n",
       "      <td>NaN</td>\n",
       "      <td>NaN</td>\n",
       "    </tr>\n",
       "    <tr>\n",
       "      <th>3</th>\n",
       "      <td>4.83</td>\n",
       "      <td>220.97</td>\n",
       "    </tr>\n",
       "    <tr>\n",
       "      <th>4</th>\n",
       "      <td>28.30</td>\n",
       "      <td>609.47</td>\n",
       "    </tr>\n",
       "    <tr>\n",
       "      <th>5</th>\n",
       "      <td>13.13</td>\n",
       "      <td>242.29</td>\n",
       "    </tr>\n",
       "    <tr>\n",
       "      <th>6</th>\n",
       "      <td>5.73</td>\n",
       "      <td>323.63</td>\n",
       "    </tr>\n",
       "    <tr>\n",
       "      <th>7</th>\n",
       "      <td>5.13</td>\n",
       "      <td>288.90</td>\n",
       "    </tr>\n",
       "    <tr>\n",
       "      <th>8</th>\n",
       "      <td>2.97</td>\n",
       "      <td>222.58</td>\n",
       "    </tr>\n",
       "    <tr>\n",
       "      <th>9</th>\n",
       "      <td>4.80</td>\n",
       "      <td>564.97</td>\n",
       "    </tr>\n",
       "    <tr>\n",
       "      <th>10</th>\n",
       "      <td>16.29</td>\n",
       "      <td>2017.90</td>\n",
       "    </tr>\n",
       "    <tr>\n",
       "      <th>11</th>\n",
       "      <td>62.62</td>\n",
       "      <td>5313.75</td>\n",
       "    </tr>\n",
       "  </tbody>\n",
       "</table>\n",
       "</div>"
      ],
      "text/plain": [
       "           new_deaths  new_cases\n",
       "date date                       \n",
       "2020 2            NaN        NaN\n",
       "     3           4.83     220.97\n",
       "     4          28.30     609.47\n",
       "     5          13.13     242.29\n",
       "     6           5.73     323.63\n",
       "     7           5.13     288.90\n",
       "     8           2.97     222.58\n",
       "     9           4.80     564.97\n",
       "     10         16.29    2017.90\n",
       "     11         62.62    5313.75"
      ]
     },
     "execution_count": 28,
     "metadata": {},
     "output_type": "execute_result"
    }
   ],
   "source": [
    "df_q9 = df[(df['date'] >= '2020-01') & (df['date'] <= '2020-12') & (df['location'] == 'Portugal')] # removes rows that aren't \"Portugal\" value on location column and keeps only rows with specofied values on date column\n",
    "q9mean = df_q9 [['date', 'new_deaths', 'new_cases']] # make a dataframe including only the date, new_deaths and new_cases columns\n",
    "q9mean.groupby([df_q9[\"date\"].dt.year, df_q9[\"date\"].dt.month]).mean().round(decimals=2) # we combine the 2 dataframes getting the mean of the two columns new_deaths and new_cases monthly and rounding the result to have to decimals"
   ]
  },
  {
   "cell_type": "code",
   "execution_count": null,
   "metadata": {},
   "outputs": [],
   "source": [
    "B3"
   ]
  },
  {
   "cell_type": "code",
   "execution_count": 117,
   "metadata": {},
   "outputs": [],
   "source": [
    "df_q10 = df['location'] == 'South Korea' # keeps rows with \"South Korea\" value on location column\n",
    "SKnew_tests = df[df_q10]['new_tests'].dropna() # dataframe with new tests of South Korea and ignores nan values\n",
    "SKnew_deaths = df[df_q10]['new_deaths'].dropna() # dataframe with new deaths of South Korea and ignores nan values\n",
    "SKnew_cases = df[df_q10]['new_cases'].dropna() # dataframe with new cases of South Korea and ignores nan values"
   ]
  },
  {
   "cell_type": "code",
   "execution_count": 118,
   "metadata": {},
   "outputs": [
    {
     "name": "stdout",
     "output_type": "stream",
     "text": [
      "South Korea New Tests:\n",
      "Minimum New Tests: 5.0\n",
      "Maximum New Tests: 23215.0\n",
      "Average Number of New Tests: 9885.651685393259\n",
      "Variance: 24194996.325589262\n",
      "Standard Deviation: 4918.840953475652\n"
     ]
    }
   ],
   "source": [
    "print('South Korea New Tests:\\nMinimum New Tests:',SKnew_tests.min()) # prints min max average variance and standard deviation for new tests of South Korea\n",
    "print('Maximum New Tests:',SKnew_tests.max())\n",
    "print('Average Number of New Tests:',SKnew_tests.mean())\n",
    "print('Variance:',SKnew_tests.var())\n",
    "print('Standard Deviation:',SKnew_tests.std())"
   ]
  },
  {
   "cell_type": "code",
   "execution_count": 119,
   "metadata": {},
   "outputs": [
    {
     "name": "stdout",
     "output_type": "stream",
     "text": [
      "South Korea New Cases:\n",
      "Minimum New Cases: 0.0\n",
      "Maximum New Cases: 909.0\n",
      "Average Number of New Cases: 95.00909090909092\n",
      "Variance: 15345.808427742459\n",
      "Standard Deviation: 123.87819996973825\n"
     ]
    }
   ],
   "source": [
    "print('South Korea New Cases:\\nMinimum New Cases:',SKnew_cases.min()) # prints min max average variance and standard deviation for new cases of South Korea\n",
    "print('Maximum New Cases:',SKnew_cases.max())\n",
    "print('Average Number of New Cases:',SKnew_cases.mean())\n",
    "print('Variance:',SKnew_cases.var())\n",
    "print('Standard Deviation:',SKnew_cases.std())"
   ]
  },
  {
   "cell_type": "code",
   "execution_count": 120,
   "metadata": {},
   "outputs": [
    {
     "name": "stdout",
     "output_type": "stream",
     "text": [
      "South Korea New Deaths:\n",
      "Minimum New Deaths: 0.0\n",
      "Maximum New Deaths: 9.0\n",
      "Average Number of New Deaths: 1.5454545454545454\n",
      "Variance: 3.7684443216358186\n",
      "Standard Deviation: 1.941248134998671\n"
     ]
    }
   ],
   "source": [
    "print('South Korea New Deaths:\\nMinimum New Deaths:',SKnew_deaths.min()) # prints min max average variance and standard deviation for new deaths of South Korea\n",
    "print('Maximum New Deaths:',SKnew_deaths.max())\n",
    "print('Average Number of New Deaths:',SKnew_deaths.mean())\n",
    "print('Variance:',SKnew_deaths.var())\n",
    "print('Standard Deviation:',SKnew_deaths.std())"
   ]
  },
  {
   "cell_type": "code",
   "execution_count": null,
   "metadata": {},
   "outputs": [],
   "source": [
    "C1"
   ]
  },
  {
   "cell_type": "code",
   "execution_count": 102,
   "metadata": {},
   "outputs": [],
   "source": [
    "df_q11 = df[df['location'] == 'World'] # removes rows that aren't \"World\" value on location\n",
    "wt_cases_deaths = df_q11 [['total_cases', 'total_deaths']].dropna() # dataframe with total cases and total deaths\n",
    "r, p = stats.pearsonr(wt_cases_deaths['total_cases'], wt_cases_deaths['total_deaths']) # correlation test to find r and p value"
   ]
  },
  {
   "cell_type": "code",
   "execution_count": 103,
   "metadata": {},
   "outputs": [
    {
     "data": {
      "text/plain": [
       "0.9721076608791571"
      ]
     },
     "execution_count": 103,
     "metadata": {},
     "output_type": "execute_result"
    }
   ],
   "source": [
    "r # print r value"
   ]
  },
  {
   "cell_type": "code",
   "execution_count": 104,
   "metadata": {},
   "outputs": [
    {
     "data": {
      "text/plain": [
       "1.0450573665656795e-201"
      ]
     },
     "execution_count": 104,
     "metadata": {},
     "output_type": "execute_result"
    }
   ],
   "source": [
    "p # print p value"
   ]
  },
  {
   "cell_type": "code",
   "execution_count": null,
   "metadata": {},
   "outputs": [],
   "source": [
    "C2"
   ]
  },
  {
   "cell_type": "code",
   "execution_count": 126,
   "metadata": {},
   "outputs": [],
   "source": [
    "df_q12 = df[(df['date'] == '2020-11-24') & (df['location'] != 'World') & (df['location'] != 'International')][['gdp_per_capita','total_deaths_per_million']].dropna() # \n",
    "t, p = stats.ttest_rel(df_q12['gdp_per_capita'], df_q12['total_deaths_per_million']) # t-test to find t and p value"
   ]
  },
  {
   "cell_type": "code",
   "execution_count": 127,
   "metadata": {},
   "outputs": [
    {
     "data": {
      "text/plain": [
       "12.444901269070117"
      ]
     },
     "execution_count": 127,
     "metadata": {},
     "output_type": "execute_result"
    }
   ],
   "source": [
    "t # print t value"
   ]
  },
  {
   "cell_type": "code",
   "execution_count": 128,
   "metadata": {},
   "outputs": [
    {
     "data": {
      "text/plain": [
       "1.415571764830309e-25"
      ]
     },
     "execution_count": 128,
     "metadata": {},
     "output_type": "execute_result"
    }
   ],
   "source": [
    "p # print p value"
   ]
  },
  {
   "cell_type": "code",
   "execution_count": null,
   "metadata": {},
   "outputs": [],
   "source": [
    "C3"
   ]
  },
  {
   "cell_type": "code",
   "execution_count": 131,
   "metadata": {},
   "outputs": [],
   "source": [
    "df_q13 = df[(df['date'] == '2020-11-24') & (df['location'] != 'World') & (df['location'] != 'International')][['total_tests','total_cases']].dropna()\n",
    "r, p = stats.pearsonr(df_q13['total_tests'], df_q13['total_cases']) # correlation test to find r and p value"
   ]
  },
  {
   "cell_type": "code",
   "execution_count": 132,
   "metadata": {},
   "outputs": [
    {
     "data": {
      "text/plain": [
       "0.8295602413832944"
      ]
     },
     "execution_count": 132,
     "metadata": {},
     "output_type": "execute_result"
    }
   ],
   "source": [
    "r # print r value"
   ]
  },
  {
   "cell_type": "code",
   "execution_count": 133,
   "metadata": {},
   "outputs": [
    {
     "data": {
      "text/plain": [
       "0.04109895408357672"
      ]
     },
     "execution_count": 133,
     "metadata": {},
     "output_type": "execute_result"
    }
   ],
   "source": [
    "p # print p value"
   ]
  }
 ],
 "metadata": {
  "kernelspec": {
   "display_name": "Python 3",
   "language": "python",
   "name": "python3"
  },
  "language_info": {
   "codemirror_mode": {
    "name": "ipython",
    "version": 3
   },
   "file_extension": ".py",
   "mimetype": "text/x-python",
   "name": "python",
   "nbconvert_exporter": "python",
   "pygments_lexer": "ipython3",
   "version": "3.8.5"
  }
 },
 "nbformat": 4,
 "nbformat_minor": 4
}
